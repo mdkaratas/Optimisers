{
 "cells": [
  {
   "cell_type": "code",
   "execution_count": 1,
   "id": "79556a63",
   "metadata": {},
   "outputs": [],
   "source": [
    "import numpy as np    # import required packages\n",
    "import pandas as pd\n",
    "import matplotlib.pyplot as plt\n",
    "import seaborn as sns\n",
    "import math\n",
    "from scipy.stats import multivariate_normal\n",
    "import statistics as st\n",
    "import pickle\n"
   ]
  },
  {
   "cell_type": "code",
   "execution_count": 10,
   "id": "688903e2",
   "metadata": {},
   "outputs": [
    {
     "name": "stdout",
     "output_type": "stream",
     "text": [
      "\n",
      "You can find the C code in this temporary file: /var/folders/8v/dhsjr8kx65zc4znwz1gn49l00000gn/T/theano_compilation_error_vwi8mt7_\n",
      "library imit=] is not found.\n"
     ]
    },
    {
     "ename": "AttributeError",
     "evalue": "partially initialized module 'theano' has no attribute 'gof' (most likely due to a circular import)",
     "output_type": "error",
     "traceback": [
      "\u001b[0;31m---------------------------------------------------------------------------\u001b[0m",
      "\u001b[0;31mImportError\u001b[0m                               Traceback (most recent call last)",
      "\u001b[0;32m~/opt/anaconda3/lib/python3.8/site-packages/theano/gof/lazylinker_c.py\u001b[0m in \u001b[0;36m<module>\u001b[0;34m\u001b[0m\n\u001b[1;32m     75\u001b[0m         \u001b[0;32mif\u001b[0m \u001b[0mversion\u001b[0m \u001b[0;34m!=\u001b[0m \u001b[0mactual_version\u001b[0m\u001b[0;34m:\u001b[0m\u001b[0;34m\u001b[0m\u001b[0;34m\u001b[0m\u001b[0m\n\u001b[0;32m---> 76\u001b[0;31m             raise ImportError(\n\u001b[0m\u001b[1;32m     77\u001b[0m                 \u001b[0;34m\"Version check of the existing lazylinker compiled file.\"\u001b[0m\u001b[0;34m\u001b[0m\u001b[0;34m\u001b[0m\u001b[0m\n",
      "\u001b[0;31mImportError\u001b[0m: Version check of the existing lazylinker compiled file. Looking for version 0.211, but found None. Extra debug information: force_compile=False, _need_reload=True",
      "\nDuring handling of the above exception, another exception occurred:\n",
      "\u001b[0;31mImportError\u001b[0m                               Traceback (most recent call last)",
      "\u001b[0;32m~/opt/anaconda3/lib/python3.8/site-packages/theano/gof/lazylinker_c.py\u001b[0m in \u001b[0;36m<module>\u001b[0;34m\u001b[0m\n\u001b[1;32m     98\u001b[0m             \u001b[0;32mif\u001b[0m \u001b[0mversion\u001b[0m \u001b[0;34m!=\u001b[0m \u001b[0mactual_version\u001b[0m\u001b[0;34m:\u001b[0m\u001b[0;34m\u001b[0m\u001b[0;34m\u001b[0m\u001b[0m\n\u001b[0;32m---> 99\u001b[0;31m                 raise ImportError(\n\u001b[0m\u001b[1;32m    100\u001b[0m                     \u001b[0;34m\"Version check of the existing lazylinker compiled file.\"\u001b[0m\u001b[0;34m\u001b[0m\u001b[0;34m\u001b[0m\u001b[0m\n",
      "\u001b[0;31mImportError\u001b[0m: Version check of the existing lazylinker compiled file. Looking for version 0.211, but found None. Extra debug information: force_compile=False, _need_reload=True",
      "\nDuring handling of the above exception, another exception occurred:\n",
      "\u001b[0;31mException\u001b[0m                                 Traceback (most recent call last)",
      "\u001b[0;32m~/opt/anaconda3/lib/python3.8/site-packages/theano/gof/vm.py\u001b[0m in \u001b[0;36m<module>\u001b[0;34m\u001b[0m\n\u001b[1;32m    673\u001b[0m         \u001b[0;32mraise\u001b[0m \u001b[0mtheano\u001b[0m\u001b[0;34m.\u001b[0m\u001b[0mgof\u001b[0m\u001b[0;34m.\u001b[0m\u001b[0mcmodule\u001b[0m\u001b[0;34m.\u001b[0m\u001b[0mMissingGXX\u001b[0m\u001b[0;34m(\u001b[0m\u001b[0;34m'lazylinker will not be imported if theano.config.cxx is not set.'\u001b[0m\u001b[0;34m)\u001b[0m\u001b[0;34m\u001b[0m\u001b[0;34m\u001b[0m\u001b[0m\n\u001b[0;32m--> 674\u001b[0;31m     \u001b[0;32mfrom\u001b[0m \u001b[0;34m.\u001b[0m \u001b[0;32mimport\u001b[0m \u001b[0mlazylinker_c\u001b[0m\u001b[0;34m\u001b[0m\u001b[0;34m\u001b[0m\u001b[0m\n\u001b[0m\u001b[1;32m    675\u001b[0m \u001b[0;34m\u001b[0m\u001b[0m\n",
      "\u001b[0;32m~/opt/anaconda3/lib/python3.8/site-packages/theano/gof/lazylinker_c.py\u001b[0m in \u001b[0;36m<module>\u001b[0;34m\u001b[0m\n\u001b[1;32m    138\u001b[0m             \u001b[0margs\u001b[0m \u001b[0;34m=\u001b[0m \u001b[0mcmodule\u001b[0m\u001b[0;34m.\u001b[0m\u001b[0mGCC_compiler\u001b[0m\u001b[0;34m.\u001b[0m\u001b[0mcompile_args\u001b[0m\u001b[0;34m(\u001b[0m\u001b[0;34m)\u001b[0m\u001b[0;34m\u001b[0m\u001b[0;34m\u001b[0m\u001b[0m\n\u001b[0;32m--> 139\u001b[0;31m             cmodule.GCC_compiler.compile_str(dirname, code, location=loc,\n\u001b[0m\u001b[1;32m    140\u001b[0m                                              preargs=args)\n",
      "\u001b[0;32m~/opt/anaconda3/lib/python3.8/site-packages/theano/gof/cmodule.py\u001b[0m in \u001b[0;36mcompile_str\u001b[0;34m(module_name, src_code, location, include_dirs, lib_dirs, libs, preargs, py_module, hide_symbols)\u001b[0m\n\u001b[1;32m   2397\u001b[0m             \u001b[0;31m# difficult to read.\u001b[0m\u001b[0;34m\u001b[0m\u001b[0;34m\u001b[0m\u001b[0;34m\u001b[0m\u001b[0m\n\u001b[0;32m-> 2398\u001b[0;31m             raise Exception('Compilation failed (return status=%s): %s' %\n\u001b[0m\u001b[1;32m   2399\u001b[0m                             (status, compile_stderr.replace('\\n', '. ')))\n",
      "\u001b[0;31mException\u001b[0m: Compilation failed (return status=1): In file included from /Users/melikedila/.theano/compiledir_macOS-10.16-x86_64-i386-64bit-i386-3.8.11-64/lazylinker_ext/mod.cpp:1:. /Users/melikedila/opt/anaconda3/include/python3.8/Python.h:14:2: error: \"Something's broken.  UCHAR_MAX should be defined in limits.h.\". #error \"Something's broken.  UCHAR_MAX should be defined in limits.h.\".  ^. /Users/melikedila/opt/anaconda3/include/python3.8/Python.h:18:2: error: \"Python's source code assumes C's unsigned char is an 8-bit type.\". #error \"Python's source code assumes C's unsigned char is an 8-bit type.\".  ^. /Users/melikedila/opt/anaconda3/include/python3.8/Python.h:27:5: error: \"Python.h requires that stdio.h define NULL.\". #   error \"Python.h requires that stdio.h define NULL.\".     ^. In file included from /Users/melikedila/.theano/compiledir_macOS-10.16-x86_64-i386-64bit-i386-3.8.11-64/lazylinker_ext/mod.cpp:1:. In file included from /Users/melikedila/opt/anaconda3/include/python3.8/Python.h:30:. /Users/melikedila/opt/anaconda3/bin/../include/c++/v1/string.h:73:64: error: use of undeclared identifier 'strchr'. char* __libcpp_strchr(const char* __s, int __c) {return (char*)strchr(__s, __c);}.                                                                ^. /Users/melikedila/opt/anaconda3/bin/../include/c++/v1/string.h:80:75: error: use of undeclared identifier 'strpbrk'. char* __libcpp_strpbrk(const char* __s1, const char* __s2) {return (char*)strpbrk(__s1, __s2);}.                                                                           ^. /Users/melikedila/opt/anaconda3/bin/../include/c++/v1/string.h:87:65: error: use of undeclared identifier 'strrchr'; did you mean 'strchr'?. char* __libcpp_strrchr(const char* __s, int __c) {return (char*)strrchr(__s, __c);}.                                                                 ^. /Users/melikedila/opt/anaconda3/bin/../include/c++/v1/string.h:75:13: note: 'strchr' declared here. const char* strchr(const char* __s, int __c) {return __libcpp_strchr(__s, __c);}.             ^. /Users/melikedila/opt/anaconda3/bin/../include/c++/v1/string.h:94:49: error: unknown type name 'size_t'. void* __libcpp_memchr(const void* __s, int __c, size_t __n) {return (void*)memchr(__s, __c, __n);}.                                                 ^. /Users/melikedila/opt/anaconda3/bin/../include/c++/v1/string.h:96:46: error: unknown type name 'size_t'. const void* memchr(const void* __s, int __c, size_t __n) {return __libcpp_memchr(__s, __c, __n);}.                                              ^. /Users/melikedila/opt/anaconda3/bin/../include/c++/v1/string.h:98:46: error: unknown type name 'size_t'.       void* memchr(      void* __s, int __c, size_t __n) {return __libcpp_memchr(__s, __c, __n);}.                                              ^. /Users/melikedila/opt/anaconda3/bin/../include/c++/v1/string.h:101:74: error: use of undeclared identifier 'strstr'; did you mean 'strchr'?. char* __libcpp_strstr(const char* __s1, const char* __s2) {return (char*)strstr(__s1, __s2);}.                                                                          ^. /Users/melikedila/opt/anaconda3/bin/../include/c++/v1/string.h:77:13: note: 'strchr' declared here.       char* strchr(      char* __s, int __c) {return __libcpp_strchr(__s, __c);}.             ^. /Users/melikedila/opt/anaconda3/bin/../include/c++/v1/string.h:101:74: error: no matching function for call to 'strchr'. char* __libcpp_strstr(const char* __s1, const char* __s2) {return (char*)strstr(__s1, __s2);}.                                                                          ^. /Users/melikedila/opt/anaconda3/bin/../include/c++/v1/string.h:77:13: note: candidate disabled: <no message provided>.       char* strchr(      char* __s, int __c) {return __libcpp_strchr(__s, __c);}.             ^. /Users/melikedila/opt/anaconda3/bin/../include/c++/v1/string.h:101:81: error: cannot initialize a parameter of type 'char *' with an lvalue of type 'const char *'. char* __libcpp_strstr(const char* __s1, const char* __s2) {return (char*)strstr(__s1, __s2);}.                                                                                 ^~~~. /Users/melikedila/opt/anaconda3/bin/../include/c++/v1/string.h:77:32: note: passing argument to parameter '__s' here.       char* strchr(      char* __s, int __c) {return __libcpp_strchr(__s, __c);}.                                ^. In file included from /Users/melikedila/.theano/compiledir_macOS-10.16-x86_64-i386-64bit-i386-3.8.11-64/lazylinker_ext/mod.cpp:1:. In file included from /Users/melikedila/opt/anaconda3/include/python3.8/Python.h:34:. /Users/melikedila/opt/anaconda3/bin/../include/c++/v1/stdlib.h:142:34: error: unknown type name 'ldiv_t'. inline _LIBCPP_INLINE_VISIBILITY ldiv_t div(long __x, long __y) _NOEXCEPT {.                                  ^. /Users/melikedila/opt/anaconda3/bin/../include/c++/v1/stdlib.h:143:12: error: no member named 'ldiv' in the global namespace.   return ::ldiv(__x, __y);.          ~~^. /Users/melikedila/opt/anaconda3/bin/../include/c++/v1/stdlib.h:146:34: error: unknown type name 'lldiv_t'. inline _LIBCPP_INLINE_VISIBILITY lldiv_t div(long long __x,.                                  ^. /Users/melikedila/opt/anaconda3/bin/../include/c++/v1/stdlib.h:148:12: error: no member named 'lldiv' in the global namespace.   return ::lldiv(__x, __y);.          ~~^. In file included from /Users/melikedila/.theano/compiledir_macOS-10.16-x86_64-i386-64bit-i386-3.8.11-64/lazylinker_ext/mod.cpp:1:. In file included from /Users/melikedila/opt/anaconda3/include/python3.8/Python.h:63:. In file included from /Users/melikedila/opt/anaconda3/include/python3.8/pyport.h:212:. /Users/melikedila/opt/anaconda3/bin/../include/c++/v1/math.h:771:93: error: no member named 'acosf' in the global namespace; did you mean 'acos'?. inline _LIBCPP_INLINE_VISIBILITY float       acos(float __lcpp_x) _NOEXCEPT       {return ::acosf(__lcpp_x);}.                                                                                           ~~^. /Users/melikedila/opt/anaconda3/bin/../include/c++/v1/math.h:771:46: note: 'acos' declared here. inline _LIBCPP_INLINE_VISIBILITY float       acos(float __lcpp_x) _NOEXCEPT       {return ::acosf(__lcpp_x);}.                                              ^. /Users/melikedila/opt/anaconda3/bin/../include/c++/v1/math.h:772:93: error: no member named 'acosl' in the global namespace; did you mean 'acos'?. inline _LIBCPP_INLINE_VISIBILITY long double acos(long double __lcpp_x) _NOEXCEPT {return ::acosl(__lcpp_x);}.                                                                                           ~~^. /Users/melikedila/opt/anaconda3/bin/../include/c++/v1/math.h:771:46: note: 'acos' declared here. inline _LIBCPP_INLINE_VISIBILITY float       acos(float __lcpp_x) _NOEXCEPT       {return ::acosf(__lcpp_x);}.                                              ^. /Users/melikedila/opt/anaconda3/bin/../include/c++/v1/math.h:778:38: error: call to 'acos' is ambiguous. acos(_A1 __lcpp_x) _NOEXCEPT {return ::acos((double)__lcpp_x);}.                                      ^~~~~~. /Users/melikedila/opt/anaconda3/bin/../include/c++/v1/math.h:771:46: note: candidate function. inline _LIBCPP_INLINE_VISIBILITY float       acos(float __lcpp_x) _NOEXCEPT       {return ::acosf(__lcpp_x);}.                                              ^. /Users/melikedila/opt/anaconda3/bin/../include/c++/v1/math.h:772:46: note: candidate function. inline _LIBCPP_INLINE_VISIBILITY long double acos(long double __lcpp_x) _NOEXCEPT {return ::acosl(__lcpp_x);}.                                              ^. fatal error: too many errors emitted, stopping now [-ferror-limit=]. 20 errors generated.. ",
      "\nDuring handling of the above exception, another exception occurred:\n",
      "\u001b[0;31mAttributeError\u001b[0m                            Traceback (most recent call last)",
      "\u001b[0;32m/var/folders/8v/dhsjr8kx65zc4znwz1gn49l00000gn/T/ipykernel_16116/2849802450.py\u001b[0m in \u001b[0;36m<module>\u001b[0;34m\u001b[0m\n\u001b[0;32m----> 1\u001b[0;31m \u001b[0;32mimport\u001b[0m \u001b[0mpymc3\u001b[0m \u001b[0;32mas\u001b[0m \u001b[0mpm\u001b[0m\u001b[0;34m\u001b[0m\u001b[0;34m\u001b[0m\u001b[0m\n\u001b[0m",
      "\u001b[0;32m~/opt/anaconda3/lib/python3.8/site-packages/pymc3/__init__.py\u001b[0m in \u001b[0;36m<module>\u001b[0;34m\u001b[0m\n\u001b[1;32m      3\u001b[0m \u001b[0;34m\u001b[0m\u001b[0m\n\u001b[1;32m      4\u001b[0m \u001b[0;32mfrom\u001b[0m \u001b[0;34m.\u001b[0m\u001b[0mblocking\u001b[0m \u001b[0;32mimport\u001b[0m \u001b[0;34m*\u001b[0m\u001b[0;34m\u001b[0m\u001b[0;34m\u001b[0m\u001b[0m\n\u001b[0;32m----> 5\u001b[0;31m \u001b[0;32mfrom\u001b[0m \u001b[0;34m.\u001b[0m\u001b[0mdistributions\u001b[0m \u001b[0;32mimport\u001b[0m \u001b[0;34m*\u001b[0m\u001b[0;34m\u001b[0m\u001b[0;34m\u001b[0m\u001b[0m\n\u001b[0m\u001b[1;32m      6\u001b[0m \u001b[0;32mfrom\u001b[0m \u001b[0;34m.\u001b[0m\u001b[0mdistributions\u001b[0m \u001b[0;32mimport\u001b[0m \u001b[0mtransforms\u001b[0m\u001b[0;34m\u001b[0m\u001b[0;34m\u001b[0m\u001b[0m\n\u001b[1;32m      7\u001b[0m \u001b[0;32mfrom\u001b[0m \u001b[0;34m.\u001b[0m\u001b[0mglm\u001b[0m \u001b[0;32mimport\u001b[0m \u001b[0;34m*\u001b[0m\u001b[0;34m\u001b[0m\u001b[0;34m\u001b[0m\u001b[0m\n",
      "\u001b[0;32m~/opt/anaconda3/lib/python3.8/site-packages/pymc3/distributions/__init__.py\u001b[0m in \u001b[0;36m<module>\u001b[0;34m\u001b[0m\n\u001b[0;32m----> 1\u001b[0;31m \u001b[0;32mfrom\u001b[0m \u001b[0;34m.\u001b[0m \u001b[0;32mimport\u001b[0m \u001b[0mtimeseries\u001b[0m\u001b[0;34m\u001b[0m\u001b[0;34m\u001b[0m\u001b[0m\n\u001b[0m\u001b[1;32m      2\u001b[0m \u001b[0;32mfrom\u001b[0m \u001b[0;34m.\u001b[0m \u001b[0;32mimport\u001b[0m \u001b[0mtransforms\u001b[0m\u001b[0;34m\u001b[0m\u001b[0;34m\u001b[0m\u001b[0m\n\u001b[1;32m      3\u001b[0m \u001b[0;32mfrom\u001b[0m \u001b[0;34m.\u001b[0m \u001b[0;32mimport\u001b[0m \u001b[0mshape_utils\u001b[0m\u001b[0;34m\u001b[0m\u001b[0;34m\u001b[0m\u001b[0m\n\u001b[1;32m      4\u001b[0m \u001b[0;34m\u001b[0m\u001b[0m\n\u001b[1;32m      5\u001b[0m \u001b[0;32mfrom\u001b[0m \u001b[0;34m.\u001b[0m\u001b[0mcontinuous\u001b[0m \u001b[0;32mimport\u001b[0m \u001b[0mUniform\u001b[0m\u001b[0;34m\u001b[0m\u001b[0;34m\u001b[0m\u001b[0m\n",
      "\u001b[0;32m~/opt/anaconda3/lib/python3.8/site-packages/pymc3/distributions/timeseries.py\u001b[0m in \u001b[0;36m<module>\u001b[0;34m\u001b[0m\n\u001b[1;32m      1\u001b[0m \u001b[0;32mfrom\u001b[0m \u001b[0mscipy\u001b[0m \u001b[0;32mimport\u001b[0m \u001b[0mstats\u001b[0m\u001b[0;34m\u001b[0m\u001b[0;34m\u001b[0m\u001b[0m\n\u001b[0;32m----> 2\u001b[0;31m \u001b[0;32mimport\u001b[0m \u001b[0mtheano\u001b[0m\u001b[0;34m.\u001b[0m\u001b[0mtensor\u001b[0m \u001b[0;32mas\u001b[0m \u001b[0mtt\u001b[0m\u001b[0;34m\u001b[0m\u001b[0;34m\u001b[0m\u001b[0m\n\u001b[0m\u001b[1;32m      3\u001b[0m \u001b[0;32mfrom\u001b[0m \u001b[0mtheano\u001b[0m \u001b[0;32mimport\u001b[0m \u001b[0mscan\u001b[0m\u001b[0;34m\u001b[0m\u001b[0;34m\u001b[0m\u001b[0m\n\u001b[1;32m      4\u001b[0m \u001b[0;34m\u001b[0m\u001b[0m\n\u001b[1;32m      5\u001b[0m \u001b[0;32mfrom\u001b[0m \u001b[0mpymc3\u001b[0m\u001b[0;34m.\u001b[0m\u001b[0mutil\u001b[0m \u001b[0;32mimport\u001b[0m \u001b[0mget_variable_name\u001b[0m\u001b[0;34m\u001b[0m\u001b[0;34m\u001b[0m\u001b[0m\n",
      "\u001b[0;32m~/opt/anaconda3/lib/python3.8/site-packages/theano/__init__.py\u001b[0m in \u001b[0;36m<module>\u001b[0;34m\u001b[0m\n\u001b[1;32m    108\u001b[0m     object2, utils)\n\u001b[1;32m    109\u001b[0m \u001b[0;34m\u001b[0m\u001b[0m\n\u001b[0;32m--> 110\u001b[0;31m from theano.compile import (\n\u001b[0m\u001b[1;32m    111\u001b[0m     \u001b[0mSymbolicInput\u001b[0m\u001b[0;34m,\u001b[0m \u001b[0mIn\u001b[0m\u001b[0;34m,\u001b[0m\u001b[0;34m\u001b[0m\u001b[0;34m\u001b[0m\u001b[0m\n\u001b[1;32m    112\u001b[0m     \u001b[0mSymbolicOutput\u001b[0m\u001b[0;34m,\u001b[0m \u001b[0mOut\u001b[0m\u001b[0;34m,\u001b[0m\u001b[0;34m\u001b[0m\u001b[0;34m\u001b[0m\u001b[0m\n",
      "\u001b[0;32m~/opt/anaconda3/lib/python3.8/site-packages/theano/compile/__init__.py\u001b[0m in \u001b[0;36m<module>\u001b[0;34m\u001b[0m\n\u001b[1;32m     10\u001b[0m \u001b[0;32mfrom\u001b[0m \u001b[0mtheano\u001b[0m\u001b[0;34m.\u001b[0m\u001b[0mcompile\u001b[0m\u001b[0;34m.\u001b[0m\u001b[0mfunction_module\u001b[0m \u001b[0;32mimport\u001b[0m \u001b[0;34m*\u001b[0m\u001b[0;34m\u001b[0m\u001b[0;34m\u001b[0m\u001b[0m\n\u001b[1;32m     11\u001b[0m \u001b[0;34m\u001b[0m\u001b[0m\n\u001b[0;32m---> 12\u001b[0;31m \u001b[0;32mfrom\u001b[0m \u001b[0mtheano\u001b[0m\u001b[0;34m.\u001b[0m\u001b[0mcompile\u001b[0m\u001b[0;34m.\u001b[0m\u001b[0mmode\u001b[0m \u001b[0;32mimport\u001b[0m \u001b[0;34m*\u001b[0m\u001b[0;34m\u001b[0m\u001b[0;34m\u001b[0m\u001b[0m\n\u001b[0m\u001b[1;32m     13\u001b[0m \u001b[0;34m\u001b[0m\u001b[0m\n\u001b[1;32m     14\u001b[0m \u001b[0;32mfrom\u001b[0m \u001b[0mtheano\u001b[0m\u001b[0;34m.\u001b[0m\u001b[0mcompile\u001b[0m\u001b[0;34m.\u001b[0m\u001b[0mio\u001b[0m \u001b[0;32mimport\u001b[0m \u001b[0;34m*\u001b[0m\u001b[0;34m\u001b[0m\u001b[0;34m\u001b[0m\u001b[0m\n",
      "\u001b[0;32m~/opt/anaconda3/lib/python3.8/site-packages/theano/compile/mode.py\u001b[0m in \u001b[0;36m<module>\u001b[0;34m\u001b[0m\n\u001b[1;32m      9\u001b[0m \u001b[0;32mimport\u001b[0m \u001b[0mtheano\u001b[0m\u001b[0;34m\u001b[0m\u001b[0;34m\u001b[0m\u001b[0m\n\u001b[1;32m     10\u001b[0m \u001b[0;32mfrom\u001b[0m \u001b[0mtheano\u001b[0m \u001b[0;32mimport\u001b[0m \u001b[0mgof\u001b[0m\u001b[0;34m\u001b[0m\u001b[0;34m\u001b[0m\u001b[0m\n\u001b[0;32m---> 11\u001b[0;31m \u001b[0;32mimport\u001b[0m \u001b[0mtheano\u001b[0m\u001b[0;34m.\u001b[0m\u001b[0mgof\u001b[0m\u001b[0;34m.\u001b[0m\u001b[0mvm\u001b[0m\u001b[0;34m\u001b[0m\u001b[0;34m\u001b[0m\u001b[0m\n\u001b[0m\u001b[1;32m     12\u001b[0m \u001b[0;32mfrom\u001b[0m \u001b[0mtheano\u001b[0m \u001b[0;32mimport\u001b[0m \u001b[0mconfig\u001b[0m\u001b[0;34m\u001b[0m\u001b[0;34m\u001b[0m\u001b[0m\n\u001b[1;32m     13\u001b[0m \u001b[0;32mfrom\u001b[0m \u001b[0msix\u001b[0m \u001b[0;32mimport\u001b[0m \u001b[0mstring_types\u001b[0m\u001b[0;34m\u001b[0m\u001b[0;34m\u001b[0m\u001b[0m\n",
      "\u001b[0;32m~/opt/anaconda3/lib/python3.8/site-packages/theano/gof/vm.py\u001b[0m in \u001b[0;36m<module>\u001b[0;34m\u001b[0m\n\u001b[1;32m    681\u001b[0m \u001b[0;32mexcept\u001b[0m \u001b[0mImportError\u001b[0m\u001b[0;34m:\u001b[0m\u001b[0;34m\u001b[0m\u001b[0;34m\u001b[0m\u001b[0m\n\u001b[1;32m    682\u001b[0m     \u001b[0;32mpass\u001b[0m\u001b[0;34m\u001b[0m\u001b[0;34m\u001b[0m\u001b[0m\n\u001b[0;32m--> 683\u001b[0;31m \u001b[0;32mexcept\u001b[0m \u001b[0;34m(\u001b[0m\u001b[0mOSError\u001b[0m\u001b[0;34m,\u001b[0m \u001b[0mtheano\u001b[0m\u001b[0;34m.\u001b[0m\u001b[0mgof\u001b[0m\u001b[0;34m.\u001b[0m\u001b[0mcmodule\u001b[0m\u001b[0;34m.\u001b[0m\u001b[0mMissingGXX\u001b[0m\u001b[0;34m)\u001b[0m \u001b[0;32mas\u001b[0m \u001b[0me\u001b[0m\u001b[0;34m:\u001b[0m\u001b[0;34m\u001b[0m\u001b[0;34m\u001b[0m\u001b[0m\n\u001b[0m\u001b[1;32m    684\u001b[0m     \u001b[0;31m# OSError happens when g++ is not installed.  In that case, we\u001b[0m\u001b[0;34m\u001b[0m\u001b[0;34m\u001b[0m\u001b[0;34m\u001b[0m\u001b[0m\n\u001b[1;32m    685\u001b[0m     \u001b[0;31m# already changed the default linker to something else then CVM.\u001b[0m\u001b[0;34m\u001b[0m\u001b[0;34m\u001b[0m\u001b[0;34m\u001b[0m\u001b[0m\n",
      "\u001b[0;31mAttributeError\u001b[0m: partially initialized module 'theano' has no attribute 'gof' (most likely due to a circular import)"
     ]
    }
   ],
   "source": [
    "import pymc3 as pm"
   ]
  },
  {
   "cell_type": "code",
   "execution_count": 16,
   "id": "52d1b661",
   "metadata": {},
   "outputs": [],
   "source": [
    "import theano.tensor as tt"
   ]
  },
  {
   "cell_type": "markdown",
   "id": "12a65881",
   "metadata": {},
   "source": [
    "### Read the data"
   ]
  },
  {
   "cell_type": "code",
   "execution_count": 4,
   "id": "d5954c56",
   "metadata": {},
   "outputs": [],
   "source": [
    "df = pd.read_csv(\"Desktop/la-haute-borne-data.csv\")\n",
    "\n",
    "wd = list(df.Wa_avg)  #  Absolute_wind_direction_corrected\n",
    "ws = list(df.Ws_avg)   # Average wind speed"
   ]
  },
  {
   "cell_type": "markdown",
   "id": "f932ae09",
   "metadata": {},
   "source": [
    "### Data cleaning"
   ]
  },
  {
   "cell_type": "code",
   "execution_count": 5,
   "id": "e670fc3f",
   "metadata": {},
   "outputs": [],
   "source": [
    "wd = [x for x in wd if math.isnan(x) == False]   \n",
    "\n",
    "ws= [x for x in ws if math.isnan(x) == False]\n"
   ]
  },
  {
   "cell_type": "markdown",
   "id": "b3357003",
   "metadata": {},
   "source": [
    "### Distribution of avarage wind direction"
   ]
  },
  {
   "cell_type": "code",
   "execution_count": 6,
   "id": "59255ae0",
   "metadata": {},
   "outputs": [
    {
     "data": {
      "text/plain": [
       "(array([15965., 21622., 12217.,  9654., 21933., 39657., 43229., 27675.,\n",
       "        13608., 10370.]),\n",
       " array([  0.,  36.,  72., 108., 144., 180., 216., 252., 288., 324., 360.]),\n",
       " <BarContainer object of 10 artists>)"
      ]
     },
     "execution_count": 6,
     "metadata": {},
     "output_type": "execute_result"
    },
    {
     "data": {
      "image/png": "[encoded data removed]",
      "text/plain": [
       "<Figure size 432x288 with 1 Axes>"
      ]
     },
     "metadata": {
      "needs_background": "light"
     },
     "output_type": "display_data"
    }
   ],
   "source": [
    "plt.hist(df.Wa_avg,color = 'red')\n"
   ]
  },
  {
   "cell_type": "markdown",
   "id": "443d2b18",
   "metadata": {},
   "source": [
    "### Distribution of avarage wind speed"
   ]
  },
  {
   "cell_type": "code",
   "execution_count": 7,
   "id": "31d6603b",
   "metadata": {},
   "outputs": [
    {
     "data": {
      "text/plain": [
       "(array([2.9213e+04, 5.5502e+04, 9.0617e+04, 2.6047e+04, 1.0516e+04,\n",
       "        3.3050e+03, 5.6400e+02, 1.2400e+02, 3.9000e+01, 3.0000e+00]),\n",
       " array([ 0.   ,  2.427,  4.854,  7.281,  9.708, 12.135, 14.562, 16.989,\n",
       "        19.416, 21.843, 24.27 ]),\n",
       " <BarContainer object of 10 artists>)"
      ]
     },
     "execution_count": 7,
     "metadata": {},
     "output_type": "execute_result"
    },
    {
     "data": {
      "image/png": "[encoded data removed]",
      "text/plain": [
       "<Figure size 432x288 with 1 Axes>"
      ]
     },
     "metadata": {
      "needs_background": "light"
     },
     "output_type": "display_data"
    }
   ],
   "source": [
    "plt.hist(df.Ws_avg,color = 'blue')"
   ]
  },
  {
   "cell_type": "markdown",
   "id": "9a17087b",
   "metadata": {},
   "source": [
    "### Joint distribution contour plot"
   ]
  },
  {
   "cell_type": "code",
   "execution_count": 9,
   "id": "72c23e74",
   "metadata": {},
   "outputs": [
    {
     "data": {
      "image/png": "[encoded data removed]",
      "text/plain": [
       "<Figure size 432x288 with 1 Axes>"
      ]
     },
     "metadata": {
      "needs_background": "light"
     },
     "output_type": "display_data"
    },
    {
     "name": "stdout",
     "output_type": "stream",
     "text": [
      "[[8.06329767e+03 2.47497097e+01]\n",
      " [2.47497097e+01 7.23873277e+00]]\n"
     ]
    }
   ],
   "source": [
    "var_matrix=np.array([wd,ws]).T\n",
    "mean = np.mean(var_matrix,axis=0)\n",
    "sigma = np.cov(var_matrix.T)\n",
    "dist = multivariate_normal(mean, cov=sigma)\n",
    "x, y = np.mgrid[1:500:.05, 0:15:.05]\n",
    "pos = np.empty(x.shape + (2,))\n",
    "pos[:, :, 0] = x; pos[:, :, 1] = y\n",
    "\n",
    "z = dist.pdf(pos)\n",
    "\n",
    "plt.contourf(x,y,z)\n",
    "plt.show()\n",
    "\n",
    "print(sigma)"
   ]
  },
  {
   "cell_type": "markdown",
   "id": "7d0c3634",
   "metadata": {},
   "source": [
    "### MLE for mean and the covariance matrix"
   ]
  },
  {
   "cell_type": "code",
   "execution_count": 12,
   "id": "9aa80706",
   "metadata": {},
   "outputs": [
    {
     "name": "stdout",
     "output_type": "stream",
     "text": [
      "mu_bar=  [187.46797092   5.43257639]\n",
      "sigma=  [[8.06329767e+03 2.47497097e+01]\n",
      " [2.47497097e+01 7.23873277e+00]]\n"
     ]
    }
   ],
   "source": [
    "print('mu_bar= ', mean)\n",
    "\n",
    "print('sigma= ',sigma)"
   ]
  },
  {
   "cell_type": "markdown",
   "id": "376749d6",
   "metadata": {},
   "source": [
    "### Bayesian Inference"
   ]
  },
  {
   "cell_type": "code",
   "execution_count": 2,
   "id": "71c62d70",
   "metadata": {},
   "outputs": [],
   "source": [
    "# MCMC was used for sampling from the posterior to approximate the posterior\n",
    "\n"
   ]
  },
  {
   "cell_type": "code",
   "execution_count": 18,
   "id": "ed35fd09",
   "metadata": {},
   "outputs": [],
   "source": [
    "data = [wd,ws]\n",
    "data = np.array(data)"
   ]
  },
  {
   "cell_type": "code",
   "execution_count": 11,
   "id": "913f6ef5",
   "metadata": {},
   "outputs": [
    {
     "ename": "NameError",
     "evalue": "name 'pm' is not defined",
     "output_type": "error",
     "traceback": [
      "\u001b[0;31m---------------------------------------------------------------------------\u001b[0m",
      "\u001b[0;31mNameError\u001b[0m                                 Traceback (most recent call last)",
      "\u001b[0;32m/var/folders/8v/dhsjr8kx65zc4znwz1gn49l00000gn/T/ipykernel_16116/1988057252.py\u001b[0m in \u001b[0;36m<module>\u001b[0;34m\u001b[0m\n\u001b[1;32m      3\u001b[0m \u001b[0mX\u001b[0m \u001b[0;34m=\u001b[0m \u001b[0mnp\u001b[0m\u001b[0;34m.\u001b[0m\u001b[0mrandom\u001b[0m\u001b[0;34m.\u001b[0m\u001b[0mmultivariate_normal\u001b[0m\u001b[0;34m(\u001b[0m\u001b[0mnp\u001b[0m\u001b[0;34m.\u001b[0m\u001b[0marray\u001b[0m\u001b[0;34m(\u001b[0m\u001b[0mmean\u001b[0m\u001b[0;34m)\u001b[0m\u001b[0;34m,\u001b[0m \u001b[0mnp\u001b[0m\u001b[0;34m.\u001b[0m\u001b[0marray\u001b[0m\u001b[0;34m(\u001b[0m\u001b[0msigma\u001b[0m\u001b[0;34m)\u001b[0m\u001b[0;34m,\u001b[0m \u001b[0msize\u001b[0m\u001b[0;34m=\u001b[0m\u001b[0mN\u001b[0m\u001b[0;34m)\u001b[0m\u001b[0;34m\u001b[0m\u001b[0;34m\u001b[0m\u001b[0m\n\u001b[1;32m      4\u001b[0m \u001b[0;34m\u001b[0m\u001b[0m\n\u001b[0;32m----> 5\u001b[0;31m \u001b[0;32mwith\u001b[0m \u001b[0mpm\u001b[0m\u001b[0;34m.\u001b[0m\u001b[0mModel\u001b[0m\u001b[0;34m(\u001b[0m\u001b[0;34m)\u001b[0m \u001b[0;32mas\u001b[0m \u001b[0mmodel\u001b[0m\u001b[0;34m:\u001b[0m\u001b[0;34m\u001b[0m\u001b[0;34m\u001b[0m\u001b[0m\n\u001b[0m\u001b[1;32m      6\u001b[0m     \u001b[0;31m# use `shape` argument to define tensor dimensions\u001b[0m\u001b[0;34m\u001b[0m\u001b[0;34m\u001b[0m\u001b[0;34m\u001b[0m\u001b[0m\n\u001b[1;32m      7\u001b[0m     \u001b[0mmu\u001b[0m \u001b[0;34m=\u001b[0m \u001b[0mpm\u001b[0m\u001b[0;34m.\u001b[0m\u001b[0mNormal\u001b[0m\u001b[0;34m(\u001b[0m\u001b[0;34m'mu'\u001b[0m\u001b[0;34m,\u001b[0m  \u001b[0mshape\u001b[0m\u001b[0;34m=\u001b[0m\u001b[0;36m2\u001b[0m\u001b[0;34m)\u001b[0m   \u001b[0;31m# 5   187\u001b[0m\u001b[0;34m\u001b[0m\u001b[0;34m\u001b[0m\u001b[0m\n",
      "\u001b[0;31mNameError\u001b[0m: name 'pm' is not defined"
     ]
    }
   ],
   "source": [
    "N = 10000\n",
    "np.random.seed(0)\n",
    "X = np.random.multivariate_normal(np.array(mean), np.array(sigma), size=N)\n",
    "\n",
    "with pm.Model() as model:\n",
    "    # use `shape` argument to define tensor dimensions\n",
    "    mu = pm.Normal('mu',  shape=2)   # 5   187\n",
    "\n",
    "    # diagonal values on covariance matrix\n",
    "    a = pm.Normal('a',  shape=2)\n",
    "\n",
    "    # convert vector to a 2x2 matrix with `a` on the diagonal\n",
    "    cov = tt.diag(a)\n",
    "\n",
    "    likelihood = pm.MvNormal('likelihood', mu=mu, cov=cov, observed=data)"
   ]
  },
  {
   "cell_type": "code",
   "execution_count": null,
   "id": "8e84a6ed",
   "metadata": {},
   "outputs": [],
   "source": [
    "# inference\n",
    "    start = pm.find_MAP()\n",
    "    step = pm.Slice()\n",
    "    trace = pm.sample(niter, step, start, random_seed=123, progressbar=True)"
   ]
  },
  {
   "cell_type": "markdown",
   "id": "2c36ee49",
   "metadata": {},
   "source": [
    "###  Joint pdf "
   ]
  },
  {
   "cell_type": "code",
   "execution_count": null,
   "id": "4c0a4c22",
   "metadata": {},
   "outputs": [],
   "source": [
    "def multivariate_normal(x, d, mean, covariance):\n",
    "    \"\"\"pdf of the multivariate normal distribution.\"\"\"\n",
    "    x_m = x - mean\n",
    "    return (1. / (np.sqrt((2 * np.pi)**d * np.linalg.det(covariance))) * \n",
    "            np.exp(-(np.linalg.solve(covariance, x_m).T.dot(x_m)) / 2))"
   ]
  },
  {
   "cell_type": "markdown",
   "id": "a730af82",
   "metadata": {},
   "source": [
    "### Calculate the power"
   ]
  },
  {
   "cell_type": "code",
   "execution_count": 2,
   "id": "52bc8af5",
   "metadata": {},
   "outputs": [
    {
     "ename": "NameError",
     "evalue": "name 'multivariate_normal' is not defined",
     "output_type": "error",
     "traceback": [
      "\u001b[0;31m---------------------------------------------------------------------------\u001b[0m",
      "\u001b[0;31mNameError\u001b[0m                                 Traceback (most recent call last)",
      "\u001b[0;32m<ipython-input-2-10112aee1aea>\u001b[0m in \u001b[0;36m<module>\u001b[0;34m\u001b[0m\n\u001b[0;32m----> 1\u001b[0;31m \u001b[0;34m-\u001b[0m\u001b[0;34m(\u001b[0m\u001b[0mmultivariate_normal\u001b[0m\u001b[0;34m(\u001b[0m\u001b[0mx\u001b[0m\u001b[0;34m,\u001b[0m \u001b[0;36m2\u001b[0m\u001b[0;34m,\u001b[0m \u001b[0mmean\u001b[0m\u001b[0;34m,\u001b[0m \u001b[0msigma\u001b[0m\u001b[0;34m)\u001b[0m\u001b[0;34m)\u001b[0m\u001b[0;34m\u001b[0m\u001b[0;34m\u001b[0m\u001b[0m\n\u001b[0m",
      "\u001b[0;31mNameError\u001b[0m: name 'multivariate_normal' is not defined"
     ]
    }
   ],
   "source": [
    "N_t = 10. # number of turbines\n",
    "\n",
    "P = N_t*(multivariate_normal(x, 2, mean, sigma))"
   ]
  },
  {
   "cell_type": "markdown",
   "id": "444f11a5",
   "metadata": {},
   "source": [
    "### Calculate the cost"
   ]
  },
  {
   "cell_type": "code",
   "execution_count": null,
   "id": "57faa8da",
   "metadata": {},
   "outputs": [],
   "source": [
    "\n",
    "C = N_t * (2/3 + 1/3*np.exp(-0.00174 * (N_t)**2))\n"
   ]
  },
  {
   "cell_type": "markdown",
   "id": "25d89802",
   "metadata": {},
   "source": [
    "### Objective function to be minimised"
   ]
  },
  {
   "cell_type": "code",
   "execution_count": null,
   "id": "8326f3c7",
   "metadata": {},
   "outputs": [],
   "source": [
    "obj_fun = N_t* [- (multivariate_normal(x, 2, mean, sigma)) + (2/3 + 1/3*np.exp(-0.00174 * (N_t)**2))]"
   ]
  },
  {
   "cell_type": "markdown",
   "id": "e0eee7f2",
   "metadata": {},
   "source": [
    "### NSGA-II"
   ]
  },
  {
   "cell_type": "code",
   "execution_count": 10,
   "id": "4962861d",
   "metadata": {},
   "outputs": [
    {
     "ename": "ModuleNotFoundError",
     "evalue": "No module named 'nsga2.problem'",
     "output_type": "error",
     "traceback": [
      "\u001b[0;31m---------------------------------------------------------------------------\u001b[0m",
      "\u001b[0;31mModuleNotFoundError\u001b[0m                       Traceback (most recent call last)",
      "\u001b[0;32m<ipython-input-10-aed838cc4e65>\u001b[0m in \u001b[0;36m<module>\u001b[0;34m\u001b[0m\n\u001b[0;32m----> 1\u001b[0;31m \u001b[0;32mfrom\u001b[0m \u001b[0mnsga2\u001b[0m\u001b[0;34m.\u001b[0m\u001b[0mproblem\u001b[0m \u001b[0;32mimport\u001b[0m \u001b[0mProblem\u001b[0m\u001b[0;34m\u001b[0m\u001b[0;34m\u001b[0m\u001b[0m\n\u001b[0m\u001b[1;32m      2\u001b[0m \u001b[0;32mfrom\u001b[0m \u001b[0mnsga2\u001b[0m\u001b[0;34m.\u001b[0m\u001b[0mevolution\u001b[0m \u001b[0;32mimport\u001b[0m \u001b[0mEvolution\u001b[0m\u001b[0;34m\u001b[0m\u001b[0;34m\u001b[0m\u001b[0m\n",
      "\u001b[0;31mModuleNotFoundError\u001b[0m: No module named 'nsga2.problem'"
     ]
    }
   ],
   "source": [
    "from nsga2.problem import Problem\n",
    "from nsga2.evolution import Evolution"
   ]
  },
  {
   "cell_type": "code",
   "execution_count": null,
   "id": "52ab7d26",
   "metadata": {},
   "outputs": [],
   "source": [
    "problem = Problem(num_of_variables=2, objectives=[-P, C], variables_range=[(-10, 10)], same_range=True, expand=False)\n",
    "evo = Evolution(problem, mutation_param=20)\n",
    "func = [i.objectives for i in evo.evolve()]\n",
    "\n",
    "function1 = [i[0] for i in func]\n",
    "function2 = [i[1] for i in func]\n",
    "plt.xlabel('Function 1', fontsize=15)\n",
    "plt.ylabel('Function 2', fontsize=15)\n",
    "plt.scatter(function1, function2)\n",
    "plt.show()"
   ]
  }
 ],
 "metadata": {
  "kernelspec": {
   "display_name": "Python 3 (ipykernel)",
   "language": "python",
   "name": "python3"
  },
  "language_info": {
   "codemirror_mode": {
    "name": "ipython",
    "version": 3
   },
   "file_extension": ".py",
   "mimetype": "text/x-python",
   "name": "python",
   "nbconvert_exporter": "python",
   "pygments_lexer": "ipython3",
   "version": "3.8.11"
  }
 },
 "nbformat": 4,
 "nbformat_minor": 5
}
